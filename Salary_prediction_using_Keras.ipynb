{
 "cells": [
  {
   "cell_type": "markdown",
   "metadata": {},
   "source": [
    "\n",
    "# MIE1624 - Assignment 2 - bonus\n",
    "## KERAS - NN\n",
    "## Bibin K. Sebastian\n",
    "## 1003752691"
   ]
  },
  {
   "cell_type": "code",
   "execution_count": 1,
   "metadata": {},
   "outputs": [
    {
     "name": "stderr",
     "output_type": "stream",
     "text": [
      "/Users/bibinsebastian/anaconda3/lib/python3.6/site-packages/h5py/__init__.py:36: FutureWarning: Conversion of the second argument of issubdtype from `float` to `np.floating` is deprecated. In future, it will be treated as `np.float64 == np.dtype(float).type`.\n",
      "  from ._conv import register_converters as _register_converters\n",
      "Using TensorFlow backend.\n"
     ]
    }
   ],
   "source": [
    "#Import necessary libraries \n",
    "import keras\n",
    "import keras.backend as K\n",
    "from keras.callbacks import ModelCheckpoint,TensorBoard,History\n",
    "from keras.models import Sequential\n",
    "from keras.layers import Dense, Activation, Flatten, LeakyReLU\n",
    "from sklearn.model_selection import train_test_split\n",
    "from sklearn.metrics import mean_absolute_error,mean_squared_error\n",
    "import matplotlib.pyplot as plt\n",
    "import pandas as pd\n",
    "import numpy as np\n",
    "import warnings \n",
    "warnings.filterwarnings('ignore')\n",
    "warnings.filterwarnings('ignore', category=DeprecationWarning)\n",
    "\n",
    "from sklearn.metrics import r2_score"
   ]
  },
  {
   "cell_type": "code",
   "execution_count": 2,
   "metadata": {},
   "outputs": [],
   "source": [
    "dataset = pd.read_csv(\"dataset.csv\") # read the dataset which was saved up from initial section\n",
    "dataset.pop('Unnamed: 0');"
   ]
  },
  {
   "cell_type": "code",
   "execution_count": 3,
   "metadata": {},
   "outputs": [],
   "source": [
    "y = dataset.pop('Q9'); # separate the target variable"
   ]
  },
  {
   "cell_type": "markdown",
   "metadata": {},
   "source": [
    "#### defining a function to find the unbiased fit estimator Adjusted $R^2$"
   ]
  },
  {
   "cell_type": "code",
   "execution_count": 4,
   "metadata": {},
   "outputs": [],
   "source": [
    "def adjusted_r2(y_true,y_pred,data):\n",
    "    r2 = r2_score(y_true,y_pred)\n",
    "    return(1 - (1-r2)*(data.shape[0]-1)/(data.shape[0]-data.shape[1]-1))"
   ]
  },
  {
   "cell_type": "code",
   "execution_count": 5,
   "metadata": {},
   "outputs": [],
   "source": [
    "# change the features to categorical \n",
    "dataset.Q23 = dataset.Q23.astype('category')\n",
    "dataset.Q24 = dataset.Q23.astype('category')\n",
    "dataset.Q25 = dataset.Q25.astype('category')\n",
    "dataset.Q26 = dataset.Q26.astype('category')"
   ]
  },
  {
   "cell_type": "markdown",
   "metadata": {},
   "source": [
    "*** One hot encoding to ensure that the columns with multiple categories are separated in different columns. I am using pandas get_dummies function to encode the dataframe (will encode only object or categorical type columns). While doing so , to ensure that we get rid of the dummy variable trap, drop_first parameter needs to be set as True.This step will produce k-l features from a column with k categories . ***"
   ]
  },
  {
   "cell_type": "code",
   "execution_count": 6,
   "metadata": {},
   "outputs": [
    {
     "data": {
      "text/plain": [
       "(6337, 18)"
      ]
     },
     "execution_count": 6,
     "metadata": {},
     "output_type": "execute_result"
    }
   ],
   "source": [
    "dataset.shape"
   ]
  },
  {
   "cell_type": "code",
   "execution_count": 7,
   "metadata": {},
   "outputs": [
    {
     "data": {
      "text/plain": [
       "object      14\n",
       "category     2\n",
       "category     1\n",
       "category     1\n",
       "dtype: int64"
      ]
     },
     "execution_count": 7,
     "metadata": {},
     "output_type": "execute_result"
    }
   ],
   "source": [
    "dataset.dtypes.value_counts()"
   ]
  },
  {
   "cell_type": "code",
   "execution_count": 8,
   "metadata": {},
   "outputs": [],
   "source": [
    "dataset = pd.get_dummies(dataset,drop_first=True)"
   ]
  },
  {
   "cell_type": "code",
   "execution_count": 9,
   "metadata": {},
   "outputs": [
    {
     "data": {
      "text/plain": [
       "(6337, 213)"
      ]
     },
     "execution_count": 9,
     "metadata": {},
     "output_type": "execute_result"
    }
   ],
   "source": [
    "dataset.shape # looks like get_dummies did its work!!"
   ]
  },
  {
   "cell_type": "code",
   "execution_count": 10,
   "metadata": {},
   "outputs": [
    {
     "data": {
      "text/plain": [
       "213"
      ]
     },
     "execution_count": 10,
     "metadata": {},
     "output_type": "execute_result"
    }
   ],
   "source": [
    "len(dataset.columns)"
   ]
  },
  {
   "cell_type": "code",
   "execution_count": 11,
   "metadata": {
    "scrolled": true
   },
   "outputs": [
    {
     "data": {
      "text/html": [
       "<div>\n",
       "<style scoped>\n",
       "    .dataframe tbody tr th:only-of-type {\n",
       "        vertical-align: middle;\n",
       "    }\n",
       "\n",
       "    .dataframe tbody tr th {\n",
       "        vertical-align: top;\n",
       "    }\n",
       "\n",
       "    .dataframe thead th {\n",
       "        text-align: right;\n",
       "    }\n",
       "</style>\n",
       "<table border=\"1\" class=\"dataframe\">\n",
       "  <thead>\n",
       "    <tr style=\"text-align: right;\">\n",
       "      <th></th>\n",
       "      <th>Q1_Male</th>\n",
       "      <th>Q1_Prefer not to say</th>\n",
       "      <th>Q1_Prefer to self-describe</th>\n",
       "      <th>Q2_22-24</th>\n",
       "      <th>Q2_25-29</th>\n",
       "      <th>Q2_30-34</th>\n",
       "      <th>Q2_35-39</th>\n",
       "      <th>Q2_40-44</th>\n",
       "      <th>Q2_45-49</th>\n",
       "      <th>Q2_50-54</th>\n",
       "      <th>...</th>\n",
       "      <th>Q25_4</th>\n",
       "      <th>Q25_5</th>\n",
       "      <th>Q25_6</th>\n",
       "      <th>Q25_7</th>\n",
       "      <th>Q25_8</th>\n",
       "      <th>Q25_9</th>\n",
       "      <th>Q26_2</th>\n",
       "      <th>Q26_4</th>\n",
       "      <th>Q26_5</th>\n",
       "      <th>Q26_6</th>\n",
       "    </tr>\n",
       "  </thead>\n",
       "  <tbody>\n",
       "    <tr>\n",
       "      <th>0</th>\n",
       "      <td>1</td>\n",
       "      <td>0</td>\n",
       "      <td>0</td>\n",
       "      <td>0</td>\n",
       "      <td>0</td>\n",
       "      <td>0</td>\n",
       "      <td>1</td>\n",
       "      <td>0</td>\n",
       "      <td>0</td>\n",
       "      <td>0</td>\n",
       "      <td>...</td>\n",
       "      <td>0</td>\n",
       "      <td>0</td>\n",
       "      <td>0</td>\n",
       "      <td>0</td>\n",
       "      <td>0</td>\n",
       "      <td>0</td>\n",
       "      <td>1</td>\n",
       "      <td>0</td>\n",
       "      <td>0</td>\n",
       "      <td>0</td>\n",
       "    </tr>\n",
       "    <tr>\n",
       "      <th>1</th>\n",
       "      <td>1</td>\n",
       "      <td>0</td>\n",
       "      <td>0</td>\n",
       "      <td>0</td>\n",
       "      <td>1</td>\n",
       "      <td>0</td>\n",
       "      <td>0</td>\n",
       "      <td>0</td>\n",
       "      <td>0</td>\n",
       "      <td>0</td>\n",
       "      <td>...</td>\n",
       "      <td>0</td>\n",
       "      <td>0</td>\n",
       "      <td>0</td>\n",
       "      <td>0</td>\n",
       "      <td>0</td>\n",
       "      <td>0</td>\n",
       "      <td>0</td>\n",
       "      <td>0</td>\n",
       "      <td>1</td>\n",
       "      <td>0</td>\n",
       "    </tr>\n",
       "    <tr>\n",
       "      <th>2</th>\n",
       "      <td>0</td>\n",
       "      <td>0</td>\n",
       "      <td>0</td>\n",
       "      <td>0</td>\n",
       "      <td>0</td>\n",
       "      <td>1</td>\n",
       "      <td>0</td>\n",
       "      <td>0</td>\n",
       "      <td>0</td>\n",
       "      <td>0</td>\n",
       "      <td>...</td>\n",
       "      <td>0</td>\n",
       "      <td>0</td>\n",
       "      <td>0</td>\n",
       "      <td>0</td>\n",
       "      <td>0</td>\n",
       "      <td>0</td>\n",
       "      <td>1</td>\n",
       "      <td>0</td>\n",
       "      <td>0</td>\n",
       "      <td>0</td>\n",
       "    </tr>\n",
       "    <tr>\n",
       "      <th>3</th>\n",
       "      <td>0</td>\n",
       "      <td>0</td>\n",
       "      <td>0</td>\n",
       "      <td>0</td>\n",
       "      <td>1</td>\n",
       "      <td>0</td>\n",
       "      <td>0</td>\n",
       "      <td>0</td>\n",
       "      <td>0</td>\n",
       "      <td>0</td>\n",
       "      <td>...</td>\n",
       "      <td>0</td>\n",
       "      <td>0</td>\n",
       "      <td>0</td>\n",
       "      <td>0</td>\n",
       "      <td>0</td>\n",
       "      <td>0</td>\n",
       "      <td>0</td>\n",
       "      <td>1</td>\n",
       "      <td>0</td>\n",
       "      <td>0</td>\n",
       "    </tr>\n",
       "    <tr>\n",
       "      <th>4</th>\n",
       "      <td>1</td>\n",
       "      <td>0</td>\n",
       "      <td>0</td>\n",
       "      <td>0</td>\n",
       "      <td>1</td>\n",
       "      <td>0</td>\n",
       "      <td>0</td>\n",
       "      <td>0</td>\n",
       "      <td>0</td>\n",
       "      <td>0</td>\n",
       "      <td>...</td>\n",
       "      <td>0</td>\n",
       "      <td>0</td>\n",
       "      <td>0</td>\n",
       "      <td>0</td>\n",
       "      <td>0</td>\n",
       "      <td>0</td>\n",
       "      <td>1</td>\n",
       "      <td>0</td>\n",
       "      <td>0</td>\n",
       "      <td>0</td>\n",
       "    </tr>\n",
       "  </tbody>\n",
       "</table>\n",
       "<p>5 rows × 213 columns</p>\n",
       "</div>"
      ],
      "text/plain": [
       "   Q1_Male  Q1_Prefer not to say  Q1_Prefer to self-describe  Q2_22-24  \\\n",
       "0        1                     0                           0         0   \n",
       "1        1                     0                           0         0   \n",
       "2        0                     0                           0         0   \n",
       "3        0                     0                           0         0   \n",
       "4        1                     0                           0         0   \n",
       "\n",
       "   Q2_25-29  Q2_30-34  Q2_35-39  Q2_40-44  Q2_45-49  Q2_50-54  ...    Q25_4  \\\n",
       "0         0         0         1         0         0         0  ...        0   \n",
       "1         1         0         0         0         0         0  ...        0   \n",
       "2         0         1         0         0         0         0  ...        0   \n",
       "3         1         0         0         0         0         0  ...        0   \n",
       "4         1         0         0         0         0         0  ...        0   \n",
       "\n",
       "   Q25_5  Q25_6  Q25_7  Q25_8  Q25_9  Q26_2  Q26_4  Q26_5  Q26_6  \n",
       "0      0      0      0      0      0      1      0      0      0  \n",
       "1      0      0      0      0      0      0      0      1      0  \n",
       "2      0      0      0      0      0      1      0      0      0  \n",
       "3      0      0      0      0      0      0      1      0      0  \n",
       "4      0      0      0      0      0      1      0      0      0  \n",
       "\n",
       "[5 rows x 213 columns]"
      ]
     },
     "execution_count": 11,
     "metadata": {},
     "output_type": "execute_result"
    }
   ],
   "source": [
    "dataset.head() # nice and easy "
   ]
  },
  {
   "cell_type": "code",
   "execution_count": null,
   "metadata": {},
   "outputs": [],
   "source": []
  },
  {
   "cell_type": "code",
   "execution_count": 12,
   "metadata": {},
   "outputs": [],
   "source": [
    "# Train test spliting with test set of 20%\n",
    "X_train, X_test, y_train , y_test = train_test_split(dataset.values,y, test_size=0.2, random_state=99)"
   ]
  },
  {
   "cell_type": "code",
   "execution_count": 13,
   "metadata": {},
   "outputs": [
    {
     "data": {
      "text/plain": [
       "(5069, 213)"
      ]
     },
     "execution_count": 13,
     "metadata": {},
     "output_type": "execute_result"
    }
   ],
   "source": [
    "X_train.shape # we have more than 5000 points for training "
   ]
  },
  {
   "cell_type": "code",
   "execution_count": 14,
   "metadata": {},
   "outputs": [],
   "source": [
    "LReLU = LeakyReLU(alpha=0.3) \n",
    "# I wanted to check if some of the neurons weight becomes zero or not . Leaky RelU does a good job at that "
   ]
  },
  {
   "cell_type": "markdown",
   "metadata": {
    "scrolled": true
   },
   "source": [
    "Using Keras as a higer level wrapper on Tensor flow makes it quite easy to implement Neural network models . I would start off with a simple model with 2 hidden layers . Using mean ab"
   ]
  },
  {
   "cell_type": "markdown",
   "metadata": {},
   "source": [
    "## testing with different number of hidden layers\n",
    "###  I will be keeping the number of epochs as 10 so that we can compare them "
   ]
  },
  {
   "cell_type": "code",
   "execution_count": 15,
   "metadata": {},
   "outputs": [],
   "source": [
    "# Train test spliting with test set of 20%\n",
    "X_train, X_test, y_train , y_test = train_test_split(dataset.values,y, test_size=0.2, random_state=99)"
   ]
  },
  {
   "cell_type": "code",
   "execution_count": 16,
   "metadata": {
    "scrolled": false
   },
   "outputs": [
    {
     "name": "stdout",
     "output_type": "stream",
     "text": [
      "_________________________________________________________________\n",
      "Layer (type)                 Output Shape              Param #   \n",
      "=================================================================\n",
      "dense_1 (Dense)              (None, 32)                6848      \n",
      "_________________________________________________________________\n",
      "dense_2 (Dense)              (None, 64)                2112      \n",
      "_________________________________________________________________\n",
      "dense_3 (Dense)              (None, 128)               8320      \n",
      "_________________________________________________________________\n",
      "dense_4 (Dense)              (None, 1)                 129       \n",
      "=================================================================\n",
      "Total params: 17,409\n",
      "Trainable params: 17,409\n",
      "Non-trainable params: 0\n",
      "_________________________________________________________________\n"
     ]
    }
   ],
   "source": [
    "\n",
    "Model = Sequential()\n",
    "\n",
    "# Input Layer :\n",
    "Model.add(Dense(32, input_dim = X_train.shape[1], activation='relu'))\n",
    "\n",
    "# Hidden Layers :\n",
    "Model.add(Dense(64, activation='relu'))\n",
    "Model.add(Dense(128, activation='relu'))\n",
    "#Model.add(Dense(256, activation='relu'))\n",
    "#Model.add(Dense(256, activation='relu'))\n",
    "# Output Layer :\n",
    "Model.add(Dense(1,activation='linear'))\n",
    "\n",
    "# Compile the network :\n",
    "Model.compile(loss='mean_squared_error', optimizer='adam')\n",
    "#Model.optimizer.lr.assign(value=0.001)\n",
    "Model.summary()"
   ]
  },
  {
   "cell_type": "code",
   "execution_count": 18,
   "metadata": {
    "scrolled": true
   },
   "outputs": [
    {
     "name": "stdout",
     "output_type": "stream",
     "text": [
      "Train on 4562 samples, validate on 507 samples\n",
      "Epoch 1/10\n",
      "4562/4562 [==============================] - 3s 756us/step - loss: 5595675223.9895 - val_loss: 4820694307.8501\n",
      "Epoch 2/10\n",
      "4562/4562 [==============================] - 2s 391us/step - loss: 3472946401.8097 - val_loss: 2841229518.5168\n",
      "Epoch 3/10\n",
      "4562/4562 [==============================] - 2s 427us/step - loss: 2699691051.8825 - val_loss: 2627995587.6607\n",
      "Epoch 4/10\n",
      "4562/4562 [==============================] - 2s 384us/step - loss: 2449858416.5121 - val_loss: 2394623048.9625\n",
      "Epoch 5/10\n",
      "4562/4562 [==============================] - 2s 358us/step - loss: 2184442754.5252 - val_loss: 2148772467.8817\n",
      "Epoch 6/10\n",
      "4562/4562 [==============================] - 2s 338us/step - loss: 1908343519.0039 - val_loss: 1886049246.4221\n",
      "Epoch 7/10\n",
      "4562/4562 [==============================] - 2s 349us/step - loss: 1672852523.0408 - val_loss: 1701819225.7515\n",
      "Epoch 8/10\n",
      "4562/4562 [==============================] - 2s 446us/step - loss: 1506809711.1092 - val_loss: 1574339749.4911\n",
      "Epoch 9/10\n",
      "4562/4562 [==============================] - 2s 386us/step - loss: 1397166122.4235 - val_loss: 1499082360.1105\n",
      "Epoch 10/10\n",
      "4562/4562 [==============================] - 2s 409us/step - loss: 1324672152.3823 - val_loss: 1458296319.6844\n"
     ]
    }
   ],
   "source": [
    "hist = Model.fit(X_train, y_train, epochs=10, batch_size=32, validation_split = 0.1)"
   ]
  },
  {
   "cell_type": "code",
   "execution_count": 19,
   "metadata": {},
   "outputs": [],
   "source": [
    "pred = Model.predict(X_train)"
   ]
  },
  {
   "cell_type": "code",
   "execution_count": 20,
   "metadata": {},
   "outputs": [
    {
     "data": {
      "text/plain": [
       "0.5726124817678916"
      ]
     },
     "execution_count": 20,
     "metadata": {},
     "output_type": "execute_result"
    }
   ],
   "source": [
    "r2 = r2_score(y_true=y_train, y_pred=pred)\n",
    "r2"
   ]
  },
  {
   "cell_type": "code",
   "execution_count": 21,
   "metadata": {
    "scrolled": true
   },
   "outputs": [
    {
     "data": {
      "text/plain": [
       "0.5538620098042584"
      ]
     },
     "execution_count": 21,
     "metadata": {},
     "output_type": "execute_result"
    }
   ],
   "source": [
    "adjusted_r2(y_train,pred,X_train)"
   ]
  },
  {
   "cell_type": "code",
   "execution_count": 22,
   "metadata": {},
   "outputs": [
    {
     "data": {
      "text/plain": [
       "<matplotlib.text.Text at 0x13188cc50>"
      ]
     },
     "execution_count": 22,
     "metadata": {},
     "output_type": "execute_result"
    },
    {
     "data": {
      "image/png": "[encoded data removed]",
      "text/plain": [
       "<matplotlib.figure.Figure at 0x131874d30>"
      ]
     },
     "metadata": {},
     "output_type": "display_data"
    }
   ],
   "source": [
    "pd.DataFrame(hist.history).plot()\n",
    "plt.title(\"2 Hidden Layer\")\n",
    "plt.xlabel(\"epochs\")\n",
    "plt.ylabel(\"MSE\")"
   ]
  },
  {
   "cell_type": "markdown",
   "metadata": {},
   "source": [
    "# Model 2 "
   ]
  },
  {
   "cell_type": "code",
   "execution_count": 23,
   "metadata": {},
   "outputs": [
    {
     "name": "stdout",
     "output_type": "stream",
     "text": [
      "_________________________________________________________________\n",
      "Layer (type)                 Output Shape              Param #   \n",
      "=================================================================\n",
      "dense_5 (Dense)              (None, 32)                6848      \n",
      "_________________________________________________________________\n",
      "dense_6 (Dense)              (None, 64)                2112      \n",
      "_________________________________________________________________\n",
      "dense_7 (Dense)              (None, 128)               8320      \n",
      "_________________________________________________________________\n",
      "dense_8 (Dense)              (None, 128)               16512     \n",
      "_________________________________________________________________\n",
      "dense_9 (Dense)              (None, 1)                 129       \n",
      "=================================================================\n",
      "Total params: 33,921\n",
      "Trainable params: 33,921\n",
      "Non-trainable params: 0\n",
      "_________________________________________________________________\n",
      "Train on 4562 samples, validate on 507 samples\n",
      "Epoch 1/10\n",
      "4562/4562 [==============================] - 5s 1ms/step - loss: 4756178726.2709 - val_loss: 2849938536.5207\n",
      "Epoch 2/10\n",
      "4562/4562 [==============================] - 3s 561us/step - loss: 2533257346.8619 - val_loss: 2245984633.9408\n",
      "Epoch 3/10\n",
      "4562/4562 [==============================] - 3s 549us/step - loss: 1856697788.0719 - val_loss: 1669572620.7495\n",
      "Epoch 4/10\n",
      "4562/4562 [==============================] - 2s 537us/step - loss: 1419510842.6971 - val_loss: 1467842911.1795\n",
      "Epoch 5/10\n",
      "4562/4562 [==============================] - 2s 531us/step - loss: 1254130888.6979 - val_loss: 1391231124.0710\n",
      "Epoch 6/10\n",
      "4562/4562 [==============================] - 2s 544us/step - loss: 1194009074.5042 - val_loss: 1343129876.8915\n",
      "Epoch 7/10\n",
      "4562/4562 [==============================] - 2s 530us/step - loss: 1158093537.4730 - val_loss: 1326683333.5542\n",
      "Epoch 8/10\n",
      "4562/4562 [==============================] - 3s 586us/step - loss: 1126399017.7501 - val_loss: 1319984242.4931\n",
      "Epoch 9/10\n",
      "4562/4562 [==============================] - 2s 528us/step - loss: 1112962289.1293 - val_loss: 1309457082.8245\n",
      "Epoch 10/10\n",
      "4562/4562 [==============================] - 3s 550us/step - loss: 1097437297.3959 - val_loss: 1301150248.8363\n",
      "R2_score 0.6437188099404476\n",
      "AdjustedR2_score 0.6280879358966402\n"
     ]
    }
   ],
   "source": [
    "# Train test spliting with test set of 20%\n",
    "X_train, X_test, y_train , y_test = train_test_split(dataset.values,y, test_size=0.2, random_state=99)\n",
    "\n",
    "\n",
    "Model = Sequential()\n",
    "\n",
    "# Input Layer :\n",
    "Model.add(Dense(32, input_dim = X_train.shape[1], activation='relu'))\n",
    "\n",
    "# Hidden Layers :\n",
    "Model.add(Dense(64, activation='relu'))\n",
    "Model.add(Dense(128, activation='relu'))\n",
    "Model.add(Dense(128, activation='relu'))\n",
    "#Model.add(Dense(256, activation='relu'))\n",
    "# Output Layer :\n",
    "Model.add(Dense(1,activation='linear'))\n",
    "\n",
    "# Compile the network :\n",
    "Model.compile(loss='mean_squared_error', optimizer='adam')\n",
    "#Model.optimizer.lr.assign(value=0.001)\n",
    "Model.summary()\n",
    "\n",
    "hist = Model.fit(X_train, y_train, epochs=10, batch_size=32, validation_split = 0.1)\n",
    "\n",
    "pred = Model.predict(X_train)\n",
    "\n",
    "r2 = r2_score(y_true=y_train, y_pred=pred)\n",
    "print('R2_score',r2)\n",
    "\n",
    "print('AdjustedR2_score',adjusted_r2(y_train,pred,X_train))\n"
   ]
  },
  {
   "cell_type": "code",
   "execution_count": 24,
   "metadata": {},
   "outputs": [
    {
     "data": {
      "text/plain": [
       "<matplotlib.text.Text at 0x134036588>"
      ]
     },
     "execution_count": 24,
     "metadata": {},
     "output_type": "execute_result"
    },
    {
     "data": {
      "image/png": "[encoded data removed]",
      "text/plain": [
       "<matplotlib.figure.Figure at 0x131874b38>"
      ]
     },
     "metadata": {},
     "output_type": "display_data"
    }
   ],
   "source": [
    "pd.DataFrame(hist.history).plot()\n",
    "plt.title(\"3 Hidden Layer\")\n",
    "plt.xlabel(\"epochs\")\n",
    "plt.ylabel(\"MSE\")"
   ]
  },
  {
   "cell_type": "markdown",
   "metadata": {},
   "source": [
    "# Discussion on the number of hidden layers"
   ]
  },
  {
   "cell_type": "markdown",
   "metadata": {},
   "source": [
    "### As the number of hidden layer increases the expressiveness off the neural network goes up. We could see that the neural network starts to over fit much earlier . with 2 layers we had to go till 6 epoch where as the second model overfits after 3rd epoch"
   ]
  },
  {
   "cell_type": "markdown",
   "metadata": {},
   "source": [
    "# Number of nodes per layer"
   ]
  },
  {
   "cell_type": "markdown",
   "metadata": {},
   "source": [
    "## Model 1 - "
   ]
  },
  {
   "cell_type": "code",
   "execution_count": 25,
   "metadata": {},
   "outputs": [
    {
     "name": "stdout",
     "output_type": "stream",
     "text": [
      "_________________________________________________________________\n",
      "Layer (type)                 Output Shape              Param #   \n",
      "=================================================================\n",
      "dense_10 (Dense)             (None, 32)                6848      \n",
      "_________________________________________________________________\n",
      "dense_11 (Dense)             (None, 64)                2112      \n",
      "_________________________________________________________________\n",
      "dense_12 (Dense)             (None, 64)                4160      \n",
      "_________________________________________________________________\n",
      "dense_13 (Dense)             (None, 1)                 65        \n",
      "=================================================================\n",
      "Total params: 13,185\n",
      "Trainable params: 13,185\n",
      "Non-trainable params: 0\n",
      "_________________________________________________________________\n",
      "Train on 4562 samples, validate on 507 samples\n",
      "Epoch 1/10\n",
      "4562/4562 [==============================] - 3s 587us/step - loss: 5665582598.5094 - val_loss: 5198912823.5424\n",
      "Epoch 2/10\n",
      "4562/4562 [==============================] - 1s 288us/step - loss: 4047974925.5800 - val_loss: 2910508972.4339\n",
      "Epoch 3/10\n",
      "4562/4562 [==============================] - 1s 288us/step - loss: 2795536403.3599 - val_loss: 2703595237.9961\n",
      "Epoch 4/10\n",
      "4562/4562 [==============================] - 1s 289us/step - loss: 2573217189.0925 - val_loss: 2512450482.7456\n",
      "Epoch 5/10\n",
      "4562/4562 [==============================] - 1s 299us/step - loss: 2350810669.3415 - val_loss: 2323124965.9961\n",
      "Epoch 6/10\n",
      "4562/4562 [==============================] - 1s 296us/step - loss: 2116770669.2573 - val_loss: 2085869899.2347\n",
      "Epoch 7/10\n",
      "4562/4562 [==============================] - 1s 285us/step - loss: 1880873223.0706 - val_loss: 1875041663.1164\n",
      "Epoch 8/10\n",
      "4562/4562 [==============================] - 1s 303us/step - loss: 1681600186.4726 - val_loss: 1704898283.0454\n",
      "Epoch 9/10\n",
      "4562/4562 [==============================] - 1s 315us/step - loss: 1532693743.8948 - val_loss: 1591633760.5680\n",
      "Epoch 10/10\n",
      "4562/4562 [==============================] - 1s 316us/step - loss: 1426967787.4055 - val_loss: 1511705882.8245\n",
      "R2_score 0.5438802065364532\n",
      "AdjustedR2_score 0.5238691836718321\n"
     ]
    }
   ],
   "source": [
    "# Train test spliting with test set of 20%\n",
    "X_train, X_test, y_train , y_test = train_test_split(dataset.values,y, test_size=0.2, random_state=99)\n",
    "\n",
    "\n",
    "Model = Sequential()\n",
    "\n",
    "# Input Layer :\n",
    "Model.add(Dense(32, input_dim = X_train.shape[1], activation='relu'))\n",
    "\n",
    "# Hidden Layers :\n",
    "Model.add(Dense(64, activation='relu'))\n",
    "Model.add(Dense(64, activation='relu'))\n",
    "#Model.add(Dense(128, activation='relu'))\n",
    "#Model.add(Dense(256, activation='relu'))\n",
    "# Output Layer :\n",
    "Model.add(Dense(1,activation='linear'))\n",
    "\n",
    "# Compile the network :\n",
    "Model.compile(loss='mean_squared_error', optimizer='adam')\n",
    "#Model.optimizer.lr.assign(value=0.001)\n",
    "Model.summary()\n",
    "\n",
    "hist = Model.fit(X_train, y_train, epochs=10, batch_size=32, validation_split = 0.1)\n",
    "\n",
    "pred = Model.predict(X_train)\n",
    "\n",
    "r2 = r2_score(y_true=y_train, y_pred=pred)\n",
    "print('R2_score',r2)\n",
    "\n",
    "print('AdjustedR2_score',adjusted_r2(y_train,pred,X_train))\n"
   ]
  },
  {
   "cell_type": "code",
   "execution_count": 26,
   "metadata": {},
   "outputs": [
    {
     "data": {
      "text/plain": [
       "<matplotlib.text.Text at 0x13445c4e0>"
      ]
     },
     "execution_count": 26,
     "metadata": {},
     "output_type": "execute_result"
    },
    {
     "data": {
      "image/png": "[encoded data removed]",
      "text/plain": [
       "<matplotlib.figure.Figure at 0x13184ec18>"
      ]
     },
     "metadata": {},
     "output_type": "display_data"
    }
   ],
   "source": [
    "pd.DataFrame(hist.history).plot()\n",
    "plt.title(\"2 Hidden Layer with 64 each \")\n",
    "plt.xlabel(\"epochs\")\n",
    "plt.ylabel(\"MSE\")"
   ]
  },
  {
   "cell_type": "markdown",
   "metadata": {},
   "source": [
    "## Model 2 "
   ]
  },
  {
   "cell_type": "code",
   "execution_count": 27,
   "metadata": {},
   "outputs": [
    {
     "name": "stdout",
     "output_type": "stream",
     "text": [
      "_________________________________________________________________\n",
      "Layer (type)                 Output Shape              Param #   \n",
      "=================================================================\n",
      "dense_14 (Dense)             (None, 32)                6848      \n",
      "_________________________________________________________________\n",
      "dense_15 (Dense)             (None, 128)               4224      \n",
      "_________________________________________________________________\n",
      "dense_16 (Dense)             (None, 128)               16512     \n",
      "_________________________________________________________________\n",
      "dense_17 (Dense)             (None, 1)                 129       \n",
      "=================================================================\n",
      "Total params: 27,713\n",
      "Trainable params: 27,713\n",
      "Non-trainable params: 0\n",
      "_________________________________________________________________\n",
      "Train on 4562 samples, validate on 507 samples\n",
      "Epoch 1/10\n",
      "4562/4562 [==============================] - 4s 949us/step - loss: 5475615144.9084 - val_loss: 4216013611.4241\n",
      "Epoch 2/10\n",
      "4562/4562 [==============================] - 2s 507us/step - loss: 3104383840.4068 - val_loss: 2740300395.0454\n",
      "Epoch 3/10\n",
      "4562/4562 [==============================] - 2s 541us/step - loss: 2568494381.5099 - val_loss: 2490469243.9606\n",
      "Epoch 4/10\n",
      "4562/4562 [==============================] - 2s 451us/step - loss: 2249501055.1583 - val_loss: 2143881445.7436\n",
      "Epoch 5/10\n",
      "4562/4562 [==============================] - 2s 532us/step - loss: 1903145657.3783 - val_loss: 1834845006.8955\n",
      "Epoch 6/10\n",
      "4562/4562 [==============================] - 2s 471us/step - loss: 1624617624.2981 - val_loss: 1645123513.6884\n",
      "Epoch 7/10\n",
      "4562/4562 [==============================] - 2s 475us/step - loss: 1445805139.0653 - val_loss: 1506855432.8363\n",
      "Epoch 8/10\n",
      "4562/4562 [==============================] - 2s 472us/step - loss: 1331988035.2828 - val_loss: 1475755498.1617\n",
      "Epoch 9/10\n",
      "4562/4562 [==============================] - 2s 485us/step - loss: 1270497126.4393 - val_loss: 1405220115.3136\n",
      "Epoch 10/10\n",
      "4562/4562 [==============================] - 2s 471us/step - loss: 1222528097.7817 - val_loss: 1372124892.9073\n",
      "R2_score 0.6025295251832321\n",
      "AdjustedR2_score 0.5850915826217549\n"
     ]
    }
   ],
   "source": [
    "# Train test spliting with test set of 20%\n",
    "X_train, X_test, y_train , y_test = train_test_split(dataset.values,y, test_size=0.2, random_state=99)\n",
    "\n",
    "\n",
    "Model = Sequential()\n",
    "\n",
    "# Input Layer :\n",
    "Model.add(Dense(32, input_dim = X_train.shape[1], activation='relu'))\n",
    "\n",
    "# Hidden Layers :\n",
    "Model.add(Dense(128, activation='relu'))\n",
    "Model.add(Dense(128, activation='relu'))\n",
    "#Model.add(Dense(128, activation='relu'))\n",
    "#Model.add(Dense(256, activation='relu'))\n",
    "# Output Layer :\n",
    "Model.add(Dense(1,activation='linear'))\n",
    "\n",
    "# Compile the network :\n",
    "Model.compile(loss='mean_squared_error', optimizer='adam')\n",
    "#Model.optimizer.lr.assign(value=0.001)\n",
    "Model.summary()\n",
    "\n",
    "\n",
    "hist = Model.fit(X_train, y_train, epochs=10, batch_size=32, validation_split = 0.1)\n",
    "\n",
    "pred = Model.predict(X_train)\n",
    "\n",
    "r2 = r2_score(y_true=y_train, y_pred=pred)\n",
    "print('R2_score',r2)\n",
    "\n",
    "print('AdjustedR2_score',adjusted_r2(y_train,pred,X_train))\n"
   ]
  },
  {
   "cell_type": "code",
   "execution_count": 28,
   "metadata": {},
   "outputs": [
    {
     "data": {
      "text/plain": [
       "<matplotlib.text.Text at 0x134af6160>"
      ]
     },
     "execution_count": 28,
     "metadata": {},
     "output_type": "execute_result"
    },
    {
     "data": {
      "image/png": "[encoded data removed]",
      "text/plain": [
       "<matplotlib.figure.Figure at 0x134494b00>"
      ]
     },
     "metadata": {},
     "output_type": "display_data"
    }
   ],
   "source": [
    "pd.DataFrame(hist.history).plot()\n",
    "plt.title(\"2 Hidden Layer with 128 each \")\n",
    "plt.xlabel(\"epochs\")\n",
    "plt.ylabel(\"MSE\")"
   ]
  },
  {
   "cell_type": "markdown",
   "metadata": {},
   "source": [
    "# Model 3 "
   ]
  },
  {
   "cell_type": "code",
   "execution_count": 29,
   "metadata": {},
   "outputs": [
    {
     "name": "stdout",
     "output_type": "stream",
     "text": [
      "_________________________________________________________________\n",
      "Layer (type)                 Output Shape              Param #   \n",
      "=================================================================\n",
      "dense_18 (Dense)             (None, 32)                6848      \n",
      "_________________________________________________________________\n",
      "dense_19 (Dense)             (None, 256)               8448      \n",
      "_________________________________________________________________\n",
      "dense_20 (Dense)             (None, 256)               65792     \n",
      "_________________________________________________________________\n",
      "dense_21 (Dense)             (None, 1)                 257       \n",
      "=================================================================\n",
      "Total params: 81,345\n",
      "Trainable params: 81,345\n",
      "Non-trainable params: 0\n",
      "_________________________________________________________________\n",
      "Train on 4562 samples, validate on 507 samples\n",
      "Epoch 1/10\n",
      "4562/4562 [==============================] - 6s 1ms/step - loss: 4998448533.3240 - val_loss: 2935510756.2288\n",
      "Epoch 2/10\n",
      "4562/4562 [==============================] - 4s 827us/step - loss: 2709493886.1762 - val_loss: 2537822385.4832\n",
      "Epoch 3/10\n",
      "4562/4562 [==============================] - 4s 821us/step - loss: 2270383891.8650 - val_loss: 2125648330.9822\n",
      "Epoch 4/10\n",
      "4562/4562 [==============================] - 4s 920us/step - loss: 1809351154.9811 - val_loss: 1730537653.1440\n",
      "Epoch 5/10\n",
      "4562/4562 [==============================] - 4s 836us/step - loss: 1492269944.1719 - val_loss: 1529847519.1795\n",
      "Epoch 6/10\n",
      "4562/4562 [==============================] - 4s 834us/step - loss: 1340732481.4871 - val_loss: 1438141974.7219\n",
      "Epoch 7/10\n",
      "4562/4562 [==============================] - 4s 850us/step - loss: 1259962454.5866 - val_loss: 1387892972.1183\n",
      "Epoch 8/10\n",
      "4562/4562 [==============================] - 4s 881us/step - loss: 1204164766.4428 - val_loss: 1359848355.7870\n",
      "Epoch 9/10\n",
      "4562/4562 [==============================] - 5s 1ms/step - loss: 1171820828.2262 - val_loss: 1339214981.4911\n",
      "Epoch 10/10\n",
      "4562/4562 [==============================] - 5s 1ms/step - loss: 1153433706.0868 - val_loss: 1319855721.7199\n",
      "R2_score 0.624745952378433\n",
      "AdjustedR2_score 0.608282695500288\n"
     ]
    }
   ],
   "source": [
    "# Train test spliting with test set of 20%\n",
    "X_train, X_test, y_train , y_test = train_test_split(dataset.values,y, test_size=0.2, random_state=99)\n",
    "\n",
    "\n",
    "Model = Sequential()\n",
    "\n",
    "# Input Layer :\n",
    "Model.add(Dense(32, input_dim = X_train.shape[1], activation='relu'))\n",
    "\n",
    "# Hidden Layers :\n",
    "Model.add(Dense(256, activation='relu'))\n",
    "Model.add(Dense(256, activation='relu'))\n",
    "#Model.add(Dense(128, activation='relu'))\n",
    "#Model.add(Dense(256, activation='relu'))\n",
    "# Output Layer :\n",
    "Model.add(Dense(1,activation='linear'))\n",
    "\n",
    "# Compile the network :\n",
    "Model.compile(loss='mean_squared_error', optimizer='adam')\n",
    "#Model.optimizer.lr.assign(value=0.001)\n",
    "Model.summary()\n",
    "\n",
    "hist = Model.fit(X_train, y_train, epochs=10, batch_size=32, validation_split = 0.1)\n",
    "\n",
    "pred = Model.predict(X_train)\n",
    "\n",
    "r2 = r2_score(y_true=y_train, y_pred=pred)\n",
    "print('R2_score',r2)\n",
    "\n",
    "print('AdjustedR2_score',adjusted_r2(y_train,pred,X_train))"
   ]
  },
  {
   "cell_type": "code",
   "execution_count": 30,
   "metadata": {},
   "outputs": [
    {
     "data": {
      "text/plain": [
       "<matplotlib.text.Text at 0x1352e0ac8>"
      ]
     },
     "execution_count": 30,
     "metadata": {},
     "output_type": "execute_result"
    },
    {
     "data": {
      "image/png": "[encoded data removed]",
      "text/plain": [
       "<matplotlib.figure.Figure at 0x134464a90>"
      ]
     },
     "metadata": {},
     "output_type": "display_data"
    }
   ],
   "source": [
    "pd.DataFrame(hist.history).plot()\n",
    "plt.title(\"2 Hidden Layer with 64 each \")\n",
    "plt.xlabel(\"epochs\")\n",
    "plt.ylabel(\"MSE\")"
   ]
  },
  {
   "cell_type": "code",
   "execution_count": null,
   "metadata": {},
   "outputs": [],
   "source": []
  },
  {
   "cell_type": "markdown",
   "metadata": {},
   "source": [
    "## Discussion on the number of nodes per hidden layer"
   ]
  },
  {
   "cell_type": "markdown",
   "metadata": {},
   "source": [
    "### Similar to the number of layers , we could see that the neural network starts to over fit earlier as the number nodes per hidden layer goes up  . with 256 nodes in hidden layer, the model started overfitting at epoch  number 4 where as the first model overfits after 7th epoch "
   ]
  },
  {
   "cell_type": "markdown",
   "metadata": {},
   "source": [
    "# Number of Iterations"
   ]
  },
  {
   "cell_type": "markdown",
   "metadata": {},
   "source": [
    "#### Here we will keep the model constant and see the variation as the number of iterations goes up "
   ]
  },
  {
   "cell_type": "code",
   "execution_count": 31,
   "metadata": {},
   "outputs": [
    {
     "name": "stdout",
     "output_type": "stream",
     "text": [
      "_________________________________________________________________\n",
      "Layer (type)                 Output Shape              Param #   \n",
      "=================================================================\n",
      "dense_22 (Dense)             (None, 128)               27392     \n",
      "_________________________________________________________________\n",
      "dense_23 (Dense)             (None, 128)               16512     \n",
      "_________________________________________________________________\n",
      "dense_24 (Dense)             (None, 256)               33024     \n",
      "_________________________________________________________________\n",
      "dense_25 (Dense)             (None, 1)                 257       \n",
      "=================================================================\n",
      "Total params: 77,185\n",
      "Trainable params: 77,185\n",
      "Non-trainable params: 0\n",
      "_________________________________________________________________\n"
     ]
    }
   ],
   "source": [
    "# Train test spliting with test set of 20%\n",
    "X_train, X_test, y_train , y_test = train_test_split(dataset.values,y, test_size=0.2, random_state=99)\n",
    "\n",
    "\n",
    "Model = Sequential()\n",
    "\n",
    "# Input Layer :\n",
    "Model.add(Dense(128, input_dim = X_train.shape[1], activation='relu'))\n",
    "\n",
    "# Hidden Layers :\n",
    "Model.add(Dense(128, activation='relu'))\n",
    "Model.add(Dense(256, activation='relu'))\n",
    "\n",
    "# Output Layer :\n",
    "Model.add(Dense(1,activation='linear'))\n",
    "\n",
    "# Compile the network :\n",
    "Model.compile(loss='mean_squared_error', optimizer='adam')\n",
    "#Model.optimizer.lr.assign(value=0.001)\n",
    "Model.summary()\n"
   ]
  },
  {
   "cell_type": "code",
   "execution_count": 32,
   "metadata": {},
   "outputs": [
    {
     "name": "stdout",
     "output_type": "stream",
     "text": [
      "Train on 4562 samples, validate on 507 samples\n",
      "Epoch 1/100\n",
      "4562/4562 [==============================] - 7s 2ms/step - loss: 4784648032.8558 - val_loss: 2917185217.8935\n",
      "Epoch 2/100\n",
      "4562/4562 [==============================] - 4s 906us/step - loss: 2623807847.2530 - val_loss: 2400516961.1992\n",
      "Epoch 3/100\n",
      "4562/4562 [==============================] - 4s 868us/step - loss: 2062109076.3139 - val_loss: 1878340130.4615\n",
      "Epoch 4/100\n",
      "4562/4562 [==============================] - 4s 886us/step - loss: 1587779833.2661 - val_loss: 1560886672.3471\n",
      "Epoch 5/100\n",
      "4562/4562 [==============================] - 4s 908us/step - loss: 1352014064.3157 - val_loss: 1441449458.3669\n",
      "Epoch 6/100\n",
      "4562/4562 [==============================] - 4s 888us/step - loss: 1245607870.0359 - val_loss: 1385093026.5878\n",
      "Epoch 7/100\n",
      "4562/4562 [==============================] - 4s 875us/step - loss: 1190974675.6686 - val_loss: 1346288499.1243\n",
      "Epoch 8/100\n",
      "4562/4562 [==============================] - 5s 1ms/step - loss: 1157573811.9071 - val_loss: 1358417659.3294\n",
      "Epoch 9/100\n",
      "4562/4562 [==============================] - 6s 1ms/step - loss: 1138413427.3740 - val_loss: 1317899555.3452\n",
      "Epoch 10/100\n",
      "4562/4562 [==============================] - 4s 885us/step - loss: 1114680877.2854 - val_loss: 1311640052.4497\n",
      "Epoch 11/100\n",
      "4562/4562 [==============================] - 4s 927us/step - loss: 1100158217.6519 - val_loss: 1287043840.2525\n",
      "Epoch 12/100\n",
      "4562/4562 [==============================] - 4s 924us/step - loss: 1086708532.7488 - val_loss: 1284663421.7909\n",
      "Epoch 13/100\n",
      "4562/4562 [==============================] - 4s 943us/step - loss: 1080780651.0969 - val_loss: 1288753441.4517\n",
      "Epoch 14/100\n",
      "4562/4562 [==============================] - 4s 900us/step - loss: 1072764585.7221 - val_loss: 1290189701.2387\n",
      "Epoch 15/100\n",
      "4562/4562 [==============================] - 4s 862us/step - loss: 1068940343.7790 - val_loss: 1278470445.1913\n",
      "Epoch 16/100\n",
      "4562/4562 [==============================] - 4s 855us/step - loss: 1058991069.7484 - val_loss: 1274207228.4024\n",
      "Epoch 17/100\n",
      "4562/4562 [==============================] - 4s 847us/step - loss: 1055828197.4573 - val_loss: 1295088923.5819\n",
      "Epoch 18/100\n",
      "4562/4562 [==============================] - 4s 856us/step - loss: 1041735601.8588 - val_loss: 1279632142.2643\n",
      "Epoch 19/100\n",
      "4562/4562 [==============================] - 4s 883us/step - loss: 1036536995.7317 - val_loss: 1305271565.4438\n",
      "Epoch 20/100\n",
      "4562/4562 [==============================] - 4s 870us/step - loss: 1031352549.8501 - val_loss: 1306120678.5010\n",
      "Epoch 21/100\n",
      "4562/4562 [==============================] - 4s 868us/step - loss: 1024503423.7194 - val_loss: 1281354840.6154\n",
      "Epoch 22/100\n",
      "4562/4562 [==============================] - 4s 875us/step - loss: 1018719553.1504 - val_loss: 1294293083.2663\n",
      "Epoch 23/100\n",
      "4562/4562 [==============================] - 4s 854us/step - loss: 1013481403.8755 - val_loss: 1275009871.7791\n",
      "Epoch 24/100\n",
      "4562/4562 [==============================] - 4s 983us/step - loss: 1005198267.1740 - val_loss: 1292384399.5266\n",
      "Epoch 25/100\n",
      "4562/4562 [==============================] - 4s 931us/step - loss: 997457773.8325 - val_loss: 1281664517.4280\n",
      "Epoch 26/100\n",
      "4562/4562 [==============================] - 4s 903us/step - loss: 994865990.4814 - val_loss: 1303307486.3590\n",
      "Epoch 27/100\n",
      "4562/4562 [==============================] - 5s 994us/step - loss: 990409886.9478 - val_loss: 1278026541.6963\n",
      "Epoch 28/100\n",
      "4562/4562 [==============================] - 4s 895us/step - loss: 985228550.8181 - val_loss: 1280657019.5819\n",
      "Epoch 29/100\n",
      "4562/4562 [==============================] - 4s 916us/step - loss: 976483454.5690 - val_loss: 1302329124.2288\n",
      "Epoch 30/100\n",
      "4562/4562 [==============================] - 4s 911us/step - loss: 968207135.8176 - val_loss: 1310269031.7633\n",
      "Epoch 31/100\n",
      "4562/4562 [==============================] - 4s 912us/step - loss: 960120386.7777 - val_loss: 1285508676.1026\n",
      "Epoch 32/100\n",
      "4562/4562 [==============================] - 4s 916us/step - loss: 957631011.4231 - val_loss: 1289769777.9250\n",
      "Epoch 33/100\n",
      "4562/4562 [==============================] - 5s 1ms/step - loss: 947725613.8185 - val_loss: 1300946800.7890\n",
      "Epoch 34/100\n",
      "4562/4562 [==============================] - 4s 954us/step - loss: 941057173.8290 - val_loss: 1299074973.5385\n",
      "Epoch 35/100\n",
      "4562/4562 [==============================] - 5s 988us/step - loss: 932975072.5752 - val_loss: 1303987537.9882\n",
      "Epoch 36/100\n",
      "4562/4562 [==============================] - 5s 1ms/step - loss: 926621204.9031 - val_loss: 1308763904.3156\n",
      "Epoch 37/100\n",
      "4562/4562 [==============================] - 4s 946us/step - loss: 920004903.2109 - val_loss: 1332037731.2821\n",
      "Epoch 38/100\n",
      "4562/4562 [==============================] - 4s 904us/step - loss: 913733128.7821 - val_loss: 1316207172.3550\n",
      "Epoch 39/100\n",
      "4562/4562 [==============================] - 4s 899us/step - loss: 907739879.5897 - val_loss: 1322338482.0513\n",
      "Epoch 40/100\n",
      "4562/4562 [==============================] - 4s 919us/step - loss: 897778254.2253 - val_loss: 1324984491.7396\n",
      "Epoch 41/100\n",
      "4562/4562 [==============================] - 4s 913us/step - loss: 890117799.0004 - val_loss: 1344201121.3254\n",
      "Epoch 42/100\n",
      "4562/4562 [==============================] - 4s 880us/step - loss: 878813580.8575 - val_loss: 1347130866.2406\n",
      "Epoch 43/100\n",
      "4562/4562 [==============================] - 4s 824us/step - loss: 875485459.0653 - val_loss: 1354676396.0552\n",
      "Epoch 44/100\n",
      "4562/4562 [==============================] - 4s 822us/step - loss: 862113429.4082 - val_loss: 1369873001.6568\n",
      "Epoch 45/100\n",
      "4562/4562 [==============================] - 4s 815us/step - loss: 853616999.5897 - val_loss: 1328328657.2939\n",
      "Epoch 46/100\n",
      "4562/4562 [==============================] - 4s 818us/step - loss: 842664553.0206 - val_loss: 1347077872.9152\n",
      "Epoch 47/100\n",
      "4562/4562 [==============================] - 4s 855us/step - loss: 830480379.6370 - val_loss: 1346518430.5483\n",
      "Epoch 48/100\n",
      "4562/4562 [==============================] - 4s 942us/step - loss: 823079511.1477 - val_loss: 1375859374.2012\n",
      "Epoch 49/100\n",
      "4562/4562 [==============================] - 4s 986us/step - loss: 812426555.8685 - val_loss: 1370508896.3787\n",
      "Epoch 50/100\n",
      "4562/4562 [==============================] - 4s 915us/step - loss: 802873473.8238 - val_loss: 1341926965.6489\n",
      "Epoch 51/100\n",
      "4562/4562 [==============================] - 5s 1ms/step - loss: 787094103.7650 - val_loss: 1343963149.0651\n",
      "Epoch 52/100\n",
      "4562/4562 [==============================] - 4s 915us/step - loss: 777119890.3498 - val_loss: 1344469398.2170\n",
      "Epoch 53/100\n",
      "4562/4562 [==============================] - 5s 1ms/step - loss: 766052335.1653 - val_loss: 1381990666.6036\n",
      "Epoch 54/100\n",
      "4562/4562 [==============================] - 5s 988us/step - loss: 753988429.1030 - val_loss: 1360780954.3195\n",
      "Epoch 55/100\n",
      "4562/4562 [==============================] - 4s 886us/step - loss: 741115427.4651 - val_loss: 1362122691.0927\n",
      "Epoch 56/100\n",
      "4562/4562 [==============================] - 4s 866us/step - loss: 730907914.3253 - val_loss: 1364899682.3353\n",
      "Epoch 57/100\n",
      "4562/4562 [==============================] - 4s 847us/step - loss: 718029823.4739 - val_loss: 1382053214.9901\n",
      "Epoch 58/100\n",
      "4562/4562 [==============================] - 4s 845us/step - loss: 706460949.8992 - val_loss: 1426382317.6963\n",
      "Epoch 59/100\n",
      "4562/4562 [==============================] - 4s 895us/step - loss: 693806471.9404 - val_loss: 1397098820.6075\n",
      "Epoch 60/100\n",
      "4562/4562 [==============================] - 4s 829us/step - loss: 678921419.5458 - val_loss: 1416366303.9369\n",
      "Epoch 61/100\n",
      "4562/4562 [==============================] - 4s 867us/step - loss: 666481924.0824 - val_loss: 1380255981.9487\n",
      "Epoch 62/100\n",
      "4562/4562 [==============================] - 4s 852us/step - loss: 656452973.6642 - val_loss: 1395382929.9882\n",
      "Epoch 63/100\n",
      "4562/4562 [==============================] - 4s 869us/step - loss: 635920853.0153 - val_loss: 1365550704.1578\n",
      "Epoch 64/100\n",
      "4562/4562 [==============================] - 4s 860us/step - loss: 626811577.8273 - val_loss: 1378720221.3491\n",
      "Epoch 65/100\n",
      "4562/4562 [==============================] - 4s 874us/step - loss: 608810362.2201 - val_loss: 1422569287.5108\n",
      "Epoch 66/100\n",
      "4562/4562 [==============================] - 4s 863us/step - loss: 598368481.0802 - val_loss: 1422283097.9408\n",
      "Epoch 67/100\n"
     ]
    },
    {
     "name": "stdout",
     "output_type": "stream",
     "text": [
      "4562/4562 [==============================] - 4s 880us/step - loss: 582838853.7378 - val_loss: 1429792290.6509\n",
      "Epoch 68/100\n",
      "4562/4562 [==============================] - 4s 924us/step - loss: 565757848.4805 - val_loss: 1400254318.4536\n",
      "Epoch 69/100\n",
      "4562/4562 [==============================] - 5s 1ms/step - loss: 553257899.5458 - val_loss: 1450434356.8284\n",
      "Epoch 70/100\n",
      "4562/4562 [==============================] - 5s 1ms/step - loss: 544250651.2722 - val_loss: 1412548021.0178\n",
      "Epoch 71/100\n",
      "4562/4562 [==============================] - 4s 863us/step - loss: 524965334.1096 - val_loss: 1416593492.9546\n",
      "Epoch 72/100\n",
      "4562/4562 [==============================] - 4s 900us/step - loss: 509052646.6076 - val_loss: 1464977652.0710\n",
      "Epoch 73/100\n",
      "4562/4562 [==============================] - 4s 920us/step - loss: 491655829.7484 - val_loss: 1416388619.6765\n",
      "Epoch 74/100\n",
      "4562/4562 [==============================] - 5s 997us/step - loss: 475024851.2477 - val_loss: 1471461069.6331\n",
      "Epoch 75/100\n",
      "4562/4562 [==============================] - 4s 890us/step - loss: 460377707.7282 - val_loss: 1508219485.7909\n",
      "Epoch 76/100\n",
      "4562/4562 [==============================] - 4s 920us/step - loss: 445329701.0364 - val_loss: 1455066876.0237\n",
      "Epoch 77/100\n",
      "4562/4562 [==============================] - 4s 883us/step - loss: 426546632.4454 - val_loss: 1572917019.1400\n",
      "Epoch 78/100\n",
      "4562/4562 [==============================] - 4s 812us/step - loss: 411844515.0302 - val_loss: 1463925465.6884\n",
      "Epoch 79/100\n",
      "4562/4562 [==============================] - 4s 872us/step - loss: 393153153.8799 - val_loss: 1536700138.2880\n",
      "Epoch 80/100\n",
      "4562/4562 [==============================] - 4s 861us/step - loss: 378340418.1324 - val_loss: 1511051786.2249\n",
      "Epoch 81/100\n",
      "4562/4562 [==============================] - 4s 867us/step - loss: 359821065.7922 - val_loss: 1500115887.5897\n",
      "Epoch 82/100\n",
      "4562/4562 [==============================] - 4s 889us/step - loss: 344465042.0973 - val_loss: 1525864392.4576\n",
      "Epoch 83/100\n",
      "4562/4562 [==============================] - 4s 898us/step - loss: 326716727.7089 - val_loss: 1496032583.2584\n",
      "Epoch 84/100\n",
      "4562/4562 [==============================] - 4s 859us/step - loss: 309996067.3108 - val_loss: 1549172776.8994\n",
      "Epoch 85/100\n",
      "3744/4562 [=======================>......] - ETA: 0s - loss: 292466105.1282"
     ]
    },
    {
     "ename": "KeyboardInterrupt",
     "evalue": "",
     "output_type": "error",
     "traceback": [
      "\u001b[0;31m---------------------------------------------------------------------------\u001b[0m",
      "\u001b[0;31mKeyboardInterrupt\u001b[0m                         Traceback (most recent call last)",
      "\u001b[0;32m<ipython-input-32-c092861ed729>\u001b[0m in \u001b[0;36m<module>\u001b[0;34m()\u001b[0m\n\u001b[0;32m----> 1\u001b[0;31m \u001b[0mhist\u001b[0m \u001b[0;34m=\u001b[0m \u001b[0mModel\u001b[0m\u001b[0;34m.\u001b[0m\u001b[0mfit\u001b[0m\u001b[0;34m(\u001b[0m\u001b[0mX_train\u001b[0m\u001b[0;34m,\u001b[0m \u001b[0my_train\u001b[0m\u001b[0;34m,\u001b[0m \u001b[0mepochs\u001b[0m\u001b[0;34m=\u001b[0m\u001b[0;36m100\u001b[0m\u001b[0;34m,\u001b[0m \u001b[0mbatch_size\u001b[0m\u001b[0;34m=\u001b[0m\u001b[0;36m32\u001b[0m\u001b[0;34m,\u001b[0m \u001b[0mvalidation_split\u001b[0m \u001b[0;34m=\u001b[0m \u001b[0;36m0.1\u001b[0m\u001b[0;34m)\u001b[0m\u001b[0;34m\u001b[0m\u001b[0m\n\u001b[0m\u001b[1;32m      2\u001b[0m \u001b[0;34m\u001b[0m\u001b[0m\n\u001b[1;32m      3\u001b[0m \u001b[0mpred\u001b[0m \u001b[0;34m=\u001b[0m \u001b[0mModel\u001b[0m\u001b[0;34m.\u001b[0m\u001b[0mpredict\u001b[0m\u001b[0;34m(\u001b[0m\u001b[0mX_train\u001b[0m\u001b[0;34m)\u001b[0m\u001b[0;34m\u001b[0m\u001b[0m\n\u001b[1;32m      4\u001b[0m \u001b[0;34m\u001b[0m\u001b[0m\n\u001b[1;32m      5\u001b[0m \u001b[0mr2\u001b[0m \u001b[0;34m=\u001b[0m \u001b[0mr2_score\u001b[0m\u001b[0;34m(\u001b[0m\u001b[0my_true\u001b[0m\u001b[0;34m=\u001b[0m\u001b[0my_train\u001b[0m\u001b[0;34m,\u001b[0m \u001b[0my_pred\u001b[0m\u001b[0;34m=\u001b[0m\u001b[0mpred\u001b[0m\u001b[0;34m)\u001b[0m\u001b[0;34m\u001b[0m\u001b[0m\n",
      "\u001b[0;32m~/anaconda3/lib/python3.6/site-packages/keras/engine/training.py\u001b[0m in \u001b[0;36mfit\u001b[0;34m(self, x, y, batch_size, epochs, verbose, callbacks, validation_split, validation_data, shuffle, class_weight, sample_weight, initial_epoch, steps_per_epoch, validation_steps, **kwargs)\u001b[0m\n\u001b[1;32m   1037\u001b[0m                                         \u001b[0minitial_epoch\u001b[0m\u001b[0;34m=\u001b[0m\u001b[0minitial_epoch\u001b[0m\u001b[0;34m,\u001b[0m\u001b[0;34m\u001b[0m\u001b[0m\n\u001b[1;32m   1038\u001b[0m                                         \u001b[0msteps_per_epoch\u001b[0m\u001b[0;34m=\u001b[0m\u001b[0msteps_per_epoch\u001b[0m\u001b[0;34m,\u001b[0m\u001b[0;34m\u001b[0m\u001b[0m\n\u001b[0;32m-> 1039\u001b[0;31m                                         validation_steps=validation_steps)\n\u001b[0m\u001b[1;32m   1040\u001b[0m \u001b[0;34m\u001b[0m\u001b[0m\n\u001b[1;32m   1041\u001b[0m     def evaluate(self, x=None, y=None,\n",
      "\u001b[0;32m~/anaconda3/lib/python3.6/site-packages/keras/engine/training_arrays.py\u001b[0m in \u001b[0;36mfit_loop\u001b[0;34m(model, f, ins, out_labels, batch_size, epochs, verbose, callbacks, val_f, val_ins, shuffle, callback_metrics, initial_epoch, steps_per_epoch, validation_steps)\u001b[0m\n\u001b[1;32m    202\u001b[0m                     \u001b[0mbatch_logs\u001b[0m\u001b[0;34m[\u001b[0m\u001b[0ml\u001b[0m\u001b[0;34m]\u001b[0m \u001b[0;34m=\u001b[0m \u001b[0mo\u001b[0m\u001b[0;34m\u001b[0m\u001b[0m\n\u001b[1;32m    203\u001b[0m \u001b[0;34m\u001b[0m\u001b[0m\n\u001b[0;32m--> 204\u001b[0;31m                 \u001b[0mcallbacks\u001b[0m\u001b[0;34m.\u001b[0m\u001b[0mon_batch_end\u001b[0m\u001b[0;34m(\u001b[0m\u001b[0mbatch_index\u001b[0m\u001b[0;34m,\u001b[0m \u001b[0mbatch_logs\u001b[0m\u001b[0;34m)\u001b[0m\u001b[0;34m\u001b[0m\u001b[0m\n\u001b[0m\u001b[1;32m    205\u001b[0m                 \u001b[0;32mif\u001b[0m \u001b[0mcallback_model\u001b[0m\u001b[0;34m.\u001b[0m\u001b[0mstop_training\u001b[0m\u001b[0;34m:\u001b[0m\u001b[0;34m\u001b[0m\u001b[0m\n\u001b[1;32m    206\u001b[0m                     \u001b[0;32mbreak\u001b[0m\u001b[0;34m\u001b[0m\u001b[0m\n",
      "\u001b[0;32m~/anaconda3/lib/python3.6/site-packages/keras/callbacks.py\u001b[0m in \u001b[0;36mon_batch_end\u001b[0;34m(self, batch, logs)\u001b[0m\n\u001b[1;32m    113\u001b[0m         \u001b[0mt_before_callbacks\u001b[0m \u001b[0;34m=\u001b[0m \u001b[0mtime\u001b[0m\u001b[0;34m.\u001b[0m\u001b[0mtime\u001b[0m\u001b[0;34m(\u001b[0m\u001b[0;34m)\u001b[0m\u001b[0;34m\u001b[0m\u001b[0m\n\u001b[1;32m    114\u001b[0m         \u001b[0;32mfor\u001b[0m \u001b[0mcallback\u001b[0m \u001b[0;32min\u001b[0m \u001b[0mself\u001b[0m\u001b[0;34m.\u001b[0m\u001b[0mcallbacks\u001b[0m\u001b[0;34m:\u001b[0m\u001b[0;34m\u001b[0m\u001b[0m\n\u001b[0;32m--> 115\u001b[0;31m             \u001b[0mcallback\u001b[0m\u001b[0;34m.\u001b[0m\u001b[0mon_batch_end\u001b[0m\u001b[0;34m(\u001b[0m\u001b[0mbatch\u001b[0m\u001b[0;34m,\u001b[0m \u001b[0mlogs\u001b[0m\u001b[0;34m)\u001b[0m\u001b[0;34m\u001b[0m\u001b[0m\n\u001b[0m\u001b[1;32m    116\u001b[0m         \u001b[0mself\u001b[0m\u001b[0;34m.\u001b[0m\u001b[0m_delta_ts_batch_end\u001b[0m\u001b[0;34m.\u001b[0m\u001b[0mappend\u001b[0m\u001b[0;34m(\u001b[0m\u001b[0mtime\u001b[0m\u001b[0;34m.\u001b[0m\u001b[0mtime\u001b[0m\u001b[0;34m(\u001b[0m\u001b[0;34m)\u001b[0m \u001b[0;34m-\u001b[0m \u001b[0mt_before_callbacks\u001b[0m\u001b[0;34m)\u001b[0m\u001b[0;34m\u001b[0m\u001b[0m\n\u001b[1;32m    117\u001b[0m         \u001b[0mdelta_t_median\u001b[0m \u001b[0;34m=\u001b[0m \u001b[0mnp\u001b[0m\u001b[0;34m.\u001b[0m\u001b[0mmedian\u001b[0m\u001b[0;34m(\u001b[0m\u001b[0mself\u001b[0m\u001b[0;34m.\u001b[0m\u001b[0m_delta_ts_batch_end\u001b[0m\u001b[0;34m)\u001b[0m\u001b[0;34m\u001b[0m\u001b[0m\n",
      "\u001b[0;32m~/anaconda3/lib/python3.6/site-packages/keras/callbacks.py\u001b[0m in \u001b[0;36mon_batch_end\u001b[0;34m(self, batch, logs)\u001b[0m\n\u001b[1;32m    328\u001b[0m         \u001b[0;31m# will be handled by on_epoch_end.\u001b[0m\u001b[0;34m\u001b[0m\u001b[0;34m\u001b[0m\u001b[0m\n\u001b[1;32m    329\u001b[0m         \u001b[0;32mif\u001b[0m \u001b[0mself\u001b[0m\u001b[0;34m.\u001b[0m\u001b[0mverbose\u001b[0m \u001b[0;32mand\u001b[0m \u001b[0mself\u001b[0m\u001b[0;34m.\u001b[0m\u001b[0mseen\u001b[0m \u001b[0;34m<\u001b[0m \u001b[0mself\u001b[0m\u001b[0;34m.\u001b[0m\u001b[0mtarget\u001b[0m\u001b[0;34m:\u001b[0m\u001b[0;34m\u001b[0m\u001b[0m\n\u001b[0;32m--> 330\u001b[0;31m             \u001b[0mself\u001b[0m\u001b[0;34m.\u001b[0m\u001b[0mprogbar\u001b[0m\u001b[0;34m.\u001b[0m\u001b[0mupdate\u001b[0m\u001b[0;34m(\u001b[0m\u001b[0mself\u001b[0m\u001b[0;34m.\u001b[0m\u001b[0mseen\u001b[0m\u001b[0;34m,\u001b[0m \u001b[0mself\u001b[0m\u001b[0;34m.\u001b[0m\u001b[0mlog_values\u001b[0m\u001b[0;34m)\u001b[0m\u001b[0;34m\u001b[0m\u001b[0m\n\u001b[0m\u001b[1;32m    331\u001b[0m \u001b[0;34m\u001b[0m\u001b[0m\n\u001b[1;32m    332\u001b[0m     \u001b[0;32mdef\u001b[0m \u001b[0mon_epoch_end\u001b[0m\u001b[0;34m(\u001b[0m\u001b[0mself\u001b[0m\u001b[0;34m,\u001b[0m \u001b[0mepoch\u001b[0m\u001b[0;34m,\u001b[0m \u001b[0mlogs\u001b[0m\u001b[0;34m=\u001b[0m\u001b[0;32mNone\u001b[0m\u001b[0;34m)\u001b[0m\u001b[0;34m:\u001b[0m\u001b[0;34m\u001b[0m\u001b[0m\n",
      "\u001b[0;32m~/anaconda3/lib/python3.6/site-packages/keras/utils/generic_utils.py\u001b[0m in \u001b[0;36mupdate\u001b[0;34m(self, current, values)\u001b[0m\n\u001b[1;32m    422\u001b[0m \u001b[0;34m\u001b[0m\u001b[0m\n\u001b[1;32m    423\u001b[0m             \u001b[0msys\u001b[0m\u001b[0;34m.\u001b[0m\u001b[0mstdout\u001b[0m\u001b[0;34m.\u001b[0m\u001b[0mwrite\u001b[0m\u001b[0;34m(\u001b[0m\u001b[0minfo\u001b[0m\u001b[0;34m)\u001b[0m\u001b[0;34m\u001b[0m\u001b[0m\n\u001b[0;32m--> 424\u001b[0;31m             \u001b[0msys\u001b[0m\u001b[0;34m.\u001b[0m\u001b[0mstdout\u001b[0m\u001b[0;34m.\u001b[0m\u001b[0mflush\u001b[0m\u001b[0;34m(\u001b[0m\u001b[0;34m)\u001b[0m\u001b[0;34m\u001b[0m\u001b[0m\n\u001b[0m\u001b[1;32m    425\u001b[0m \u001b[0;34m\u001b[0m\u001b[0m\n\u001b[1;32m    426\u001b[0m         \u001b[0;32melif\u001b[0m \u001b[0mself\u001b[0m\u001b[0;34m.\u001b[0m\u001b[0mverbose\u001b[0m \u001b[0;34m==\u001b[0m \u001b[0;36m2\u001b[0m\u001b[0;34m:\u001b[0m\u001b[0;34m\u001b[0m\u001b[0m\n",
      "\u001b[0;32m~/anaconda3/lib/python3.6/site-packages/ipykernel/iostream.py\u001b[0m in \u001b[0;36mflush\u001b[0;34m(self)\u001b[0m\n\u001b[1;32m    340\u001b[0m                 \u001b[0mself\u001b[0m\u001b[0;34m.\u001b[0m\u001b[0mpub_thread\u001b[0m\u001b[0;34m.\u001b[0m\u001b[0mschedule\u001b[0m\u001b[0;34m(\u001b[0m\u001b[0mevt\u001b[0m\u001b[0;34m.\u001b[0m\u001b[0mset\u001b[0m\u001b[0;34m)\u001b[0m\u001b[0;34m\u001b[0m\u001b[0m\n\u001b[1;32m    341\u001b[0m                 \u001b[0;31m# and give a timeout to avoid\u001b[0m\u001b[0;34m\u001b[0m\u001b[0;34m\u001b[0m\u001b[0m\n\u001b[0;32m--> 342\u001b[0;31m                 \u001b[0;32mif\u001b[0m \u001b[0;32mnot\u001b[0m \u001b[0mevt\u001b[0m\u001b[0;34m.\u001b[0m\u001b[0mwait\u001b[0m\u001b[0;34m(\u001b[0m\u001b[0mself\u001b[0m\u001b[0;34m.\u001b[0m\u001b[0mflush_timeout\u001b[0m\u001b[0;34m)\u001b[0m\u001b[0;34m:\u001b[0m\u001b[0;34m\u001b[0m\u001b[0m\n\u001b[0m\u001b[1;32m    343\u001b[0m                     \u001b[0;31m# write directly to __stderr__ instead of warning because\u001b[0m\u001b[0;34m\u001b[0m\u001b[0;34m\u001b[0m\u001b[0m\n\u001b[1;32m    344\u001b[0m                     \u001b[0;31m# if this is happening sys.stderr may be the problem.\u001b[0m\u001b[0;34m\u001b[0m\u001b[0;34m\u001b[0m\u001b[0m\n",
      "\u001b[0;32m~/anaconda3/lib/python3.6/threading.py\u001b[0m in \u001b[0;36mwait\u001b[0;34m(self, timeout)\u001b[0m\n\u001b[1;32m    549\u001b[0m             \u001b[0msignaled\u001b[0m \u001b[0;34m=\u001b[0m \u001b[0mself\u001b[0m\u001b[0;34m.\u001b[0m\u001b[0m_flag\u001b[0m\u001b[0;34m\u001b[0m\u001b[0m\n\u001b[1;32m    550\u001b[0m             \u001b[0;32mif\u001b[0m \u001b[0;32mnot\u001b[0m \u001b[0msignaled\u001b[0m\u001b[0;34m:\u001b[0m\u001b[0;34m\u001b[0m\u001b[0m\n\u001b[0;32m--> 551\u001b[0;31m                 \u001b[0msignaled\u001b[0m \u001b[0;34m=\u001b[0m \u001b[0mself\u001b[0m\u001b[0;34m.\u001b[0m\u001b[0m_cond\u001b[0m\u001b[0;34m.\u001b[0m\u001b[0mwait\u001b[0m\u001b[0;34m(\u001b[0m\u001b[0mtimeout\u001b[0m\u001b[0;34m)\u001b[0m\u001b[0;34m\u001b[0m\u001b[0m\n\u001b[0m\u001b[1;32m    552\u001b[0m             \u001b[0;32mreturn\u001b[0m \u001b[0msignaled\u001b[0m\u001b[0;34m\u001b[0m\u001b[0m\n\u001b[1;32m    553\u001b[0m \u001b[0;34m\u001b[0m\u001b[0m\n",
      "\u001b[0;32m~/anaconda3/lib/python3.6/threading.py\u001b[0m in \u001b[0;36mwait\u001b[0;34m(self, timeout)\u001b[0m\n\u001b[1;32m    297\u001b[0m             \u001b[0;32melse\u001b[0m\u001b[0;34m:\u001b[0m\u001b[0;34m\u001b[0m\u001b[0m\n\u001b[1;32m    298\u001b[0m                 \u001b[0;32mif\u001b[0m \u001b[0mtimeout\u001b[0m \u001b[0;34m>\u001b[0m \u001b[0;36m0\u001b[0m\u001b[0;34m:\u001b[0m\u001b[0;34m\u001b[0m\u001b[0m\n\u001b[0;32m--> 299\u001b[0;31m                     \u001b[0mgotit\u001b[0m \u001b[0;34m=\u001b[0m \u001b[0mwaiter\u001b[0m\u001b[0;34m.\u001b[0m\u001b[0macquire\u001b[0m\u001b[0;34m(\u001b[0m\u001b[0;32mTrue\u001b[0m\u001b[0;34m,\u001b[0m \u001b[0mtimeout\u001b[0m\u001b[0;34m)\u001b[0m\u001b[0;34m\u001b[0m\u001b[0m\n\u001b[0m\u001b[1;32m    300\u001b[0m                 \u001b[0;32melse\u001b[0m\u001b[0;34m:\u001b[0m\u001b[0;34m\u001b[0m\u001b[0m\n\u001b[1;32m    301\u001b[0m                     \u001b[0mgotit\u001b[0m \u001b[0;34m=\u001b[0m \u001b[0mwaiter\u001b[0m\u001b[0;34m.\u001b[0m\u001b[0macquire\u001b[0m\u001b[0;34m(\u001b[0m\u001b[0;32mFalse\u001b[0m\u001b[0;34m)\u001b[0m\u001b[0;34m\u001b[0m\u001b[0m\n",
      "\u001b[0;31mKeyboardInterrupt\u001b[0m: "
     ]
    }
   ],
   "source": [
    "hist = Model.fit(X_train, y_train, epochs=100, batch_size=32, validation_split = 0.1)\n",
    "\n",
    "pred = Model.predict(X_train)\n",
    "\n",
    "r2 = r2_score(y_true=y_train, y_pred=pred)\n",
    "print('R2_score',r2)\n",
    "\n",
    "print('AdjustedR2_score',adjusted_r2(y_train,pred,X_train))"
   ]
  },
  {
   "cell_type": "code",
   "execution_count": null,
   "metadata": {},
   "outputs": [],
   "source": [
    "pd.DataFrame(hist.history).plot()\n",
    "plt.title(\"2 Hidden Layer with 128 & 256 nodes \")\n",
    "plt.xlabel(\"epochs\")\n",
    "plt.ylabel(\"MSE\")"
   ]
  },
  {
   "cell_type": "markdown",
   "metadata": {},
   "source": [
    "### We ccan see that after around 10 epochs the model starts to over fit very badly. This phenomenon of neural netoworks necessitates the early stopping as soon as the validation loss goes up "
   ]
  },
  {
   "cell_type": "markdown",
   "metadata": {},
   "source": [
    "# Final model "
   ]
  },
  {
   "cell_type": "markdown",
   "metadata": {},
   "source": [
    "lets use the earlier model and use the optimum iteration of 10 to get the final model"
   ]
  },
  {
   "cell_type": "code",
   "execution_count": null,
   "metadata": {},
   "outputs": [],
   "source": [
    "# Train test spliting with test set of 20%\n",
    "X_train, X_test, y_train , y_test = train_test_split(dataset.values,y, test_size=0.2, random_state=99)\n",
    "\n",
    "\n",
    "Model_f = Sequential()\n",
    "\n",
    "# Input Layer :\n",
    "Model_f.add(Dense(128, input_dim = X_train.shape[1], activation='relu'))\n",
    "\n",
    "# Hidden Layers :\n",
    "Model_f.add(Dense(128, activation='relu'))\n",
    "Model_f.add(Dense(256, activation='relu'))\n",
    "\n",
    "# Output Layer :\n",
    "Model_f.add(Dense(1,activation='linear'))\n",
    "\n",
    "# Compile the network :\n",
    "Model_f.compile(loss='mean_squared_error', optimizer='adam')\n",
    "#Model.optimizer.lr.assign(value=0.001)\n",
    "Model_f.summary()\n"
   ]
  },
  {
   "cell_type": "code",
   "execution_count": null,
   "metadata": {},
   "outputs": [],
   "source": [
    "hist = Model_f.fit(X_train, y_train, epochs=12, batch_size=32, validation_split = 0.1)\n",
    "\n",
    "pred = Model_f.predict(X_train)\n",
    "\n",
    "r2 = r2_score(y_true=y_train, y_pred=pred)\n",
    "print('R2_score',r2)\n",
    "\n",
    "print('AdjustedR2_score',adjusted_r2(y_train,pred,X_train))"
   ]
  },
  {
   "cell_type": "code",
   "execution_count": null,
   "metadata": {},
   "outputs": [],
   "source": [
    "pd.DataFrame(hist.history).plot()\n",
    "plt.title(\"2 Hidden Layer with 128 & 256 nodes \")\n",
    "plt.xlabel(\"epochs\")\n",
    "plt.ylabel(\"MSE\")"
   ]
  },
  {
   "cell_type": "code",
   "execution_count": null,
   "metadata": {},
   "outputs": [],
   "source": [
    "pred = Model_f.predict(X_test)\n",
    "\n",
    "r2 = r2_score(y_true=y_test, y_pred=pred)\n",
    "print('R2_score',r2)\n"
   ]
  },
  {
   "cell_type": "markdown",
   "metadata": {},
   "source": [
    "# Comparison and discussion"
   ]
  },
  {
   "cell_type": "markdown",
   "metadata": {},
   "source": [
    "The final model looks good with the given data however, one could clearly see that the mean squared test error do not go beyond 1289419095. This error was similar for the final gradient boosting model . I am quite confident that we have managed to fit best possible models for the given feature set. In order to improve the model, we should go back to the drawing board and work on the feature selection and engineering part.  As our compute power is increasing and the packages such as Keras and PyTorch proliferates, Neural networks makes an interesting proposition and solid candidate as data science algorithm. For this particular dataset, I found Neural nets easier to train and tune compared to other models that were modeled in the assignment. Since my data set was one hot encoded, I did not find any difference in the performance of NN with or without scaling of the dataset.I would uphold that as one of the pros of NN for this particular dataset"
   ]
  }
 ],
 "metadata": {
  "kernelspec": {
   "display_name": "Python 3",
   "language": "python",
   "name": "python3"
  },
  "language_info": {
   "codemirror_mode": {
    "name": "ipython",
    "version": 3
   },
   "file_extension": ".py",
   "mimetype": "text/x-python",
   "name": "python",
   "nbconvert_exporter": "python",
   "pygments_lexer": "ipython3",
   "version": "3.6.5"
  }
 },
 "nbformat": 4,
 "nbformat_minor": 2
}
